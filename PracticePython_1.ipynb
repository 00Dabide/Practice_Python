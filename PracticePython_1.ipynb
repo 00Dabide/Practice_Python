{
 "cells": [
  {
   "cell_type": "markdown",
   "id": "7574984c-4161-4ace-9a04-e3ba26305a43",
   "metadata": {
    "jp-MarkdownHeadingCollapsed": true,
    "tags": []
   },
   "source": [
    "## Input a 3 digit number and SUM them"
   ]
  },
  {
   "cell_type": "code",
   "execution_count": 1,
   "id": "636e5c80-c52c-4709-81b6-10d74a831f0d",
   "metadata": {
    "tags": []
   },
   "outputs": [
    {
     "ename": "KeyboardInterrupt",
     "evalue": "Interrupted by user",
     "output_type": "error",
     "traceback": [
      "\u001b[1;31m---------------------------------------------------------------------------\u001b[0m",
      "\u001b[1;31mKeyboardInterrupt\u001b[0m                         Traceback (most recent call last)",
      "Cell \u001b[1;32mIn[1], line 1\u001b[0m\n\u001b[1;32m----> 1\u001b[0m Number \u001b[38;5;241m=\u001b[39m \u001b[38;5;28minput\u001b[39m(\u001b[38;5;124m'\u001b[39m\u001b[38;5;124mPlease input a 3 digit number:\u001b[39m\u001b[38;5;124m'\u001b[39m)\n\u001b[0;32m      2\u001b[0m \u001b[38;5;28mprint\u001b[39m(\u001b[38;5;28mint\u001b[39m(Number[\u001b[38;5;241m0\u001b[39m])\u001b[38;5;241m+\u001b[39m\u001b[38;5;28mint\u001b[39m(Number[\u001b[38;5;241m1\u001b[39m])\u001b[38;5;241m+\u001b[39m\u001b[38;5;28mint\u001b[39m(Number[\u001b[38;5;241m2\u001b[39m]))\n",
      "File \u001b[1;32m~\\anaconda3\\Lib\\site-packages\\ipykernel\\kernelbase.py:1175\u001b[0m, in \u001b[0;36mKernel.raw_input\u001b[1;34m(self, prompt)\u001b[0m\n\u001b[0;32m   1171\u001b[0m \u001b[38;5;28;01mif\u001b[39;00m \u001b[38;5;129;01mnot\u001b[39;00m \u001b[38;5;28mself\u001b[39m\u001b[38;5;241m.\u001b[39m_allow_stdin:\n\u001b[0;32m   1172\u001b[0m     \u001b[38;5;28;01mraise\u001b[39;00m StdinNotImplementedError(\n\u001b[0;32m   1173\u001b[0m         \u001b[38;5;124m\"\u001b[39m\u001b[38;5;124mraw_input was called, but this frontend does not support input requests.\u001b[39m\u001b[38;5;124m\"\u001b[39m\n\u001b[0;32m   1174\u001b[0m     )\n\u001b[1;32m-> 1175\u001b[0m \u001b[38;5;28;01mreturn\u001b[39;00m \u001b[38;5;28mself\u001b[39m\u001b[38;5;241m.\u001b[39m_input_request(\n\u001b[0;32m   1176\u001b[0m     \u001b[38;5;28mstr\u001b[39m(prompt),\n\u001b[0;32m   1177\u001b[0m     \u001b[38;5;28mself\u001b[39m\u001b[38;5;241m.\u001b[39m_parent_ident[\u001b[38;5;124m\"\u001b[39m\u001b[38;5;124mshell\u001b[39m\u001b[38;5;124m\"\u001b[39m],\n\u001b[0;32m   1178\u001b[0m     \u001b[38;5;28mself\u001b[39m\u001b[38;5;241m.\u001b[39mget_parent(\u001b[38;5;124m\"\u001b[39m\u001b[38;5;124mshell\u001b[39m\u001b[38;5;124m\"\u001b[39m),\n\u001b[0;32m   1179\u001b[0m     password\u001b[38;5;241m=\u001b[39m\u001b[38;5;28;01mFalse\u001b[39;00m,\n\u001b[0;32m   1180\u001b[0m )\n",
      "File \u001b[1;32m~\\anaconda3\\Lib\\site-packages\\ipykernel\\kernelbase.py:1217\u001b[0m, in \u001b[0;36mKernel._input_request\u001b[1;34m(self, prompt, ident, parent, password)\u001b[0m\n\u001b[0;32m   1214\u001b[0m             \u001b[38;5;28;01mbreak\u001b[39;00m\n\u001b[0;32m   1215\u001b[0m \u001b[38;5;28;01mexcept\u001b[39;00m \u001b[38;5;167;01mKeyboardInterrupt\u001b[39;00m:\n\u001b[0;32m   1216\u001b[0m     \u001b[38;5;66;03m# re-raise KeyboardInterrupt, to truncate traceback\u001b[39;00m\n\u001b[1;32m-> 1217\u001b[0m     \u001b[38;5;28;01mraise\u001b[39;00m \u001b[38;5;167;01mKeyboardInterrupt\u001b[39;00m(\u001b[38;5;124m\"\u001b[39m\u001b[38;5;124mInterrupted by user\u001b[39m\u001b[38;5;124m\"\u001b[39m) \u001b[38;5;28;01mfrom\u001b[39;00m \u001b[38;5;28;01mNone\u001b[39;00m\n\u001b[0;32m   1218\u001b[0m \u001b[38;5;28;01mexcept\u001b[39;00m \u001b[38;5;167;01mException\u001b[39;00m:\n\u001b[0;32m   1219\u001b[0m     \u001b[38;5;28mself\u001b[39m\u001b[38;5;241m.\u001b[39mlog\u001b[38;5;241m.\u001b[39mwarning(\u001b[38;5;124m\"\u001b[39m\u001b[38;5;124mInvalid Message:\u001b[39m\u001b[38;5;124m\"\u001b[39m, exc_info\u001b[38;5;241m=\u001b[39m\u001b[38;5;28;01mTrue\u001b[39;00m)\n",
      "\u001b[1;31mKeyboardInterrupt\u001b[0m: Interrupted by user"
     ]
    }
   ],
   "source": [
    "Number = input('Please input a 3 digit number:')\n",
    "print(int(Number[0])+int(Number[1])+int(Number[2]))"
   ]
  },
  {
   "cell_type": "markdown",
   "id": "6c5a6667-59fa-41f9-9569-377b01af50f9",
   "metadata": {
    "jp-MarkdownHeadingCollapsed": true,
    "tags": []
   },
   "source": [
    "## BMI Calculator"
   ]
  },
  {
   "cell_type": "code",
   "execution_count": null,
   "id": "bc233c48-05ed-43da-80b7-4892244c7134",
   "metadata": {
    "tags": []
   },
   "outputs": [],
   "source": [
    "Weight = input('Please input your weight (in kg)')\n",
    "Height = input('Please input your height (in cm)')\n",
    "\n",
    "BMI = (int(Weight)/((int(Height)/100)**2))\n",
    "\n",
    "print(type(BMI))\n",
    "\n",
    "if BMI > 40:\n",
    "    Class = 'Obese Class III'\n",
    "elif BMI > 35:\n",
    "    Class = 'Obese Class II'\n",
    "elif BMI > 30:\n",
    "    Class = 'Obese Class I'\n",
    "elif BMI > 25:\n",
    "    Class = 'Overweight'\n",
    "elif BMI > 18.5:\n",
    "    Class = 'Normal'\n",
    "elif BMI > 17:\n",
    "    Class = 'Mild Thinness'\n",
    "elif BMI > 16:\n",
    "    Class = 'Moderate Thinness'\n",
    "else: Class = 'Sever Thinness'\n",
    "    \n",
    "print(\"Your BMI is: \" + str(int(BMI)),'which means you are', Class) "
   ]
  },
  {
   "cell_type": "markdown",
   "id": "1601df13-bd6a-44c6-9f30-a4d00edc21fe",
   "metadata": {
    "tags": []
   },
   "source": [
    "### BMI Calculator in Function (BMI())"
   ]
  },
  {
   "cell_type": "code",
   "execution_count": null,
   "id": "afa3ecbb-c02f-4692-91ef-3edde46c92d3",
   "metadata": {
    "tags": []
   },
   "outputs": [],
   "source": [
    "def BMI():\n",
    "    \n",
    "    #Asks for the Weight and Height\n",
    "    Weight = int(input('Please input your weight (in kg)'))\n",
    "    Height = int(input('Please input your height (in cm)'))\n",
    "     \n",
    "    #Calculates the BMI\n",
    "    BMI = (Weight/(Height/100)**2)\n",
    "    \n",
    "    #Classifies the BMI\n",
    "    if BMI > 40:\n",
    "        Class = 'Obese Class III'\n",
    "    elif BMI > 35:\n",
    "        Class = 'Obese Class II'\n",
    "    elif BMI > 30:\n",
    "        Class = 'Obese Class I'\n",
    "    elif BMI > 25:\n",
    "        Class = 'Overweight'\n",
    "    elif BMI > 18.5:\n",
    "        Class = 'Normal'\n",
    "    elif BMI > 17:\n",
    "        Class = 'Mild Thinness'\n",
    "    elif BMI > 16:\n",
    "        Class = 'Moderate Thinness'\n",
    "    else: Class = 'Sever Thinness'\n",
    "    \n",
    "    #Prints out the BMI and its classification\n",
    "    print(\"Your BMI is: \" + str(int(BMI)),'which means you are', Class)\n",
    "BMI()"
   ]
  },
  {
   "cell_type": "markdown",
   "id": "5f3f1119-32fc-4203-8287-a986839f2786",
   "metadata": {
    "jp-MarkdownHeadingCollapsed": true,
    "tags": []
   },
   "source": [
    "## Tip calculator"
   ]
  },
  {
   "cell_type": "code",
   "execution_count": null,
   "id": "c2a612a3-ec20-4889-81bf-5ab56698fc67",
   "metadata": {
    "tags": []
   },
   "outputs": [],
   "source": [
    "Bill = int(input('Please input your bill:'))\n",
    "Tip = int(input('Please input how much tip do you want to give (in %)'))\n",
    "People = int(input('Please input how many of you are:'))\n",
    "\n",
    "Pay_per_ppl = (Bill*(1+(Tip/100)))/People\n",
    "print(Pay_per_ppl)"
   ]
  },
  {
   "cell_type": "markdown",
   "id": "3ad2a967-e91a-493c-9d8b-438ffb6d79dc",
   "metadata": {
    "tags": []
   },
   "source": [
    "# Rock Paper Scrissors"
   ]
  },
  {
   "cell_type": "code",
   "execution_count": null,
   "id": "a0a06303-6d4d-4ab1-98c2-e9ee60fdf040",
   "metadata": {
    "tags": []
   },
   "outputs": [],
   "source": [
    "#Get user input\n",
    "User = input('Please write (R)ock, (P)aper or (S)crissors: ')\n",
    "\n",
    "#Get computer's \"choice\"\n",
    "import random\n",
    "RPSChoices = ['R', 'P', 'S']\n",
    "Computer = random.choice(RPSChoices)\n",
    "\n",
    "print('User choice: ' +User)\n",
    "print('Computer choice: ' +Computer)\n",
    "\n",
    "#Who wins?\n",
    "\n",
    "if User == Computer:\n",
    "    print('Draw')\n",
    "elif User == 'R' and Computer == 'S':\n",
    "    print('User wins')\n",
    "elif User == 'P' and Computer == 'R':\n",
    "    print('User wins')\n",
    "elif User == 'S' and Computer == 'P':\n",
    "    print('User wins')\n",
    "else:\n",
    "    print('Computer wins')"
   ]
  },
  {
   "cell_type": "code",
   "execution_count": 30,
   "id": "68cfb7e3-2eb5-4451-b95e-2ce4507e8a6a",
   "metadata": {
    "tags": []
   },
   "outputs": [],
   "source": [
    "def RPSGame():\n",
    "    UScore = 0 # User win count\n",
    "    CScore = 0 # Computer win count\n",
    "    \n",
    "    while UScore < 3 and CScore <3:\n",
    "        print('\\n \\n NEW GAME!!!')\n",
    "        #Get user input\n",
    "        User = input('Please write (R)ock, (P)aper or (S)crissors: ')\n",
    "\n",
    "        #Get computer's \"choice\"\n",
    "        import random\n",
    "        CompChoices = ['R', 'P', 'S']\n",
    "        Computer = random.choice(CompChoices)\n",
    "        \n",
    "        #Print both choices\n",
    "        print('User choice: ' +User)\n",
    "        print('Computer choice: ' +Computer)\n",
    "\n",
    "        #The Game\n",
    "        Game = User + Computer #Choices for the current game (Userchoice, then Computer choice)\n",
    "        UserWin = ['RS','PR','SP'] #Instances when the user wins\n",
    "\n",
    "        if User == Computer:\n",
    "             print('Draw')\n",
    "        elif Game in UserWin:\n",
    "            UScore += 1\n",
    "            print('User wins')\n",
    "        else:\n",
    "            print('Computer wins')\n",
    "            CScore += 1\n",
    "        print('Score: \\n'\n",
    "              '  User: ' +str(UScore), '\\n'\n",
    "              '  Computer: ' +str(CScore))\n",
    "    #Who won?\n",
    "    if UScore > CScore:\n",
    "        print('USER WINS!')\n",
    "    else:\n",
    "        print('COMPUTER WINS')"
   ]
  },
  {
   "cell_type": "code",
   "execution_count": 31,
   "id": "516041b5-5dc4-43b8-8e61-6c98fa3f1491",
   "metadata": {
    "tags": []
   },
   "outputs": [
    {
     "name": "stdout",
     "output_type": "stream",
     "text": [
      "\n",
      " \n",
      " NEW GAME!!!\n"
     ]
    },
    {
     "name": "stdin",
     "output_type": "stream",
     "text": [
      "Please write (R)ock, (P)aper or (S)crissors:  R\n"
     ]
    },
    {
     "name": "stdout",
     "output_type": "stream",
     "text": [
      "User choice: R\n",
      "Computer choice: R\n",
      "Draw\n",
      "Score: \n",
      "  User: 0 \n",
      "  Computer: 0\n",
      "\n",
      " \n",
      " NEW GAME!!!\n"
     ]
    },
    {
     "name": "stdin",
     "output_type": "stream",
     "text": [
      "Please write (R)ock, (P)aper or (S)crissors:  R\n"
     ]
    },
    {
     "name": "stdout",
     "output_type": "stream",
     "text": [
      "User choice: R\n",
      "Computer choice: P\n",
      "Computer wins\n",
      "Score: \n",
      "  User: 0 \n",
      "  Computer: 1\n",
      "\n",
      " \n",
      " NEW GAME!!!\n"
     ]
    },
    {
     "name": "stdin",
     "output_type": "stream",
     "text": [
      "Please write (R)ock, (P)aper or (S)crissors:  R\n"
     ]
    },
    {
     "name": "stdout",
     "output_type": "stream",
     "text": [
      "User choice: R\n",
      "Computer choice: P\n",
      "Computer wins\n",
      "Score: \n",
      "  User: 0 \n",
      "  Computer: 2\n",
      "\n",
      " \n",
      " NEW GAME!!!\n"
     ]
    },
    {
     "name": "stdin",
     "output_type": "stream",
     "text": [
      "Please write (R)ock, (P)aper or (S)crissors:  R\n"
     ]
    },
    {
     "name": "stdout",
     "output_type": "stream",
     "text": [
      "User choice: R\n",
      "Computer choice: S\n",
      "User wins\n",
      "Score: \n",
      "  User: 1 \n",
      "  Computer: 2\n",
      "\n",
      " \n",
      " NEW GAME!!!\n"
     ]
    },
    {
     "name": "stdin",
     "output_type": "stream",
     "text": [
      "Please write (R)ock, (P)aper or (S)crissors:  R\n"
     ]
    },
    {
     "name": "stdout",
     "output_type": "stream",
     "text": [
      "User choice: R\n",
      "Computer choice: P\n",
      "Computer wins\n",
      "Score: \n",
      "  User: 1 \n",
      "  Computer: 3\n",
      "COMPUTER WINS\n"
     ]
    }
   ],
   "source": [
    "RPSGame()"
   ]
  },
  {
   "cell_type": "code",
   "execution_count": null,
   "id": "8e67c0e1-8ceb-4392-8130-4392e6a45f4e",
   "metadata": {},
   "outputs": [],
   "source": []
  }
 ],
 "metadata": {
  "kernelspec": {
   "display_name": "Python 3 (ipykernel)",
   "language": "python",
   "name": "python3"
  },
  "language_info": {
   "codemirror_mode": {
    "name": "ipython",
    "version": 3
   },
   "file_extension": ".py",
   "mimetype": "text/x-python",
   "name": "python",
   "nbconvert_exporter": "python",
   "pygments_lexer": "ipython3",
   "version": "3.11.4"
  }
 },
 "nbformat": 4,
 "nbformat_minor": 5
}
