{
 "cells": [
  {
   "cell_type": "markdown",
   "id": "7574984c-4161-4ace-9a04-e3ba26305a43",
   "metadata": {
    "jp-MarkdownHeadingCollapsed": true,
    "tags": []
   },
   "source": [
    "## Input a 3 digit number and SUM them"
   ]
  },
  {
   "cell_type": "code",
   "execution_count": 11,
   "id": "636e5c80-c52c-4709-81b6-10d74a831f0d",
   "metadata": {
    "tags": []
   },
   "outputs": [
    {
     "name": "stdin",
     "output_type": "stream",
     "text": [
      "Please input a 3 digit number: 235\n"
     ]
    },
    {
     "name": "stdout",
     "output_type": "stream",
     "text": [
      "10\n"
     ]
    }
   ],
   "source": [
    "Number = input('Please input a 3 digit number:')\n",
    "print(int(Number[0])+int(Number[1])+int(Number[2]))"
   ]
  },
  {
   "cell_type": "markdown",
   "id": "6c5a6667-59fa-41f9-9569-377b01af50f9",
   "metadata": {
    "tags": []
   },
   "source": [
    "## BMI Calculator"
   ]
  },
  {
   "cell_type": "code",
   "execution_count": 77,
   "id": "bc233c48-05ed-43da-80b7-4892244c7134",
   "metadata": {
    "tags": []
   },
   "outputs": [
    {
     "name": "stdin",
     "output_type": "stream",
     "text": [
      "Please input your weight (in kg) 75\n",
      "Please input your height (in cm) 180\n"
     ]
    },
    {
     "name": "stdout",
     "output_type": "stream",
     "text": [
      "<class 'float'>\n",
      "Your BMI is: 23 which means you are Normal\n"
     ]
    }
   ],
   "source": [
    "Weight = input('Please input your weight (in kg)')\n",
    "Height = input('Please input your height (in cm)')\n",
    "\n",
    "BMI = (int(Weight)/((int(Height)/100)**2))\n",
    "\n",
    "print(type(BMI))\n",
    "\n",
    "if BMI > 40:\n",
    "    Class = 'Obese Class III'\n",
    "elif BMI > 35:\n",
    "    Class = 'Obese Class II'\n",
    "elif BMI > 30:\n",
    "    Class = 'Obese Class I'\n",
    "elif BMI > 25:\n",
    "    Class = 'Overweight'\n",
    "elif BMI > 18.5:\n",
    "    Class = 'Normal'\n",
    "elif BMI > 17:\n",
    "    Class = 'Mild Thinness'\n",
    "elif BMI > 16:\n",
    "    Class = 'Moderate Thinness'\n",
    "else: Class = 'Sever Thinness'\n",
    "    \n",
    "print(\"Your BMI is: \" + str(int(BMI)),'which means you are', Class) "
   ]
  },
  {
   "cell_type": "markdown",
   "id": "1601df13-bd6a-44c6-9f30-a4d00edc21fe",
   "metadata": {
    "tags": []
   },
   "source": [
    "### BMI Calculator in Function (BMI())"
   ]
  },
  {
   "cell_type": "code",
   "execution_count": 93,
   "id": "afa3ecbb-c02f-4692-91ef-3edde46c92d3",
   "metadata": {
    "tags": []
   },
   "outputs": [
    {
     "name": "stdin",
     "output_type": "stream",
     "text": [
      "Please input your weight (in kg) 75\n",
      "Please input your height (in cm) 180\n"
     ]
    },
    {
     "name": "stdout",
     "output_type": "stream",
     "text": [
      "Your BMI is: 23 which means you are Normal\n"
     ]
    }
   ],
   "source": [
    "def BMI():\n",
    "    \n",
    "    #Asks for the Weight and Height\n",
    "    Weight = int(input('Please input your weight (in kg)'))\n",
    "    Height = int(input('Please input your height (in cm)'))\n",
    "     \n",
    "    #Calculates the BMI\n",
    "    BMI = (Weight/(Height/100)**2)\n",
    "    \n",
    "    #Classifies the BMI\n",
    "    if BMI > 40:\n",
    "        Class = 'Obese Class III'\n",
    "    elif BMI > 35:\n",
    "        Class = 'Obese Class II'\n",
    "    elif BMI > 30:\n",
    "        Class = 'Obese Class I'\n",
    "    elif BMI > 25:\n",
    "        Class = 'Overweight'\n",
    "    elif BMI > 18.5:\n",
    "        Class = 'Normal'\n",
    "    elif BMI > 17:\n",
    "        Class = 'Mild Thinness'\n",
    "    elif BMI > 16:\n",
    "        Class = 'Moderate Thinness'\n",
    "    else: Class = 'Sever Thinness'\n",
    "    \n",
    "    #Prints out the BMI and its classification\n",
    "    print(\"Your BMI is: \" + str(int(BMI)),'which means you are', Class)\n",
    "BMI()"
   ]
  },
  {
   "cell_type": "markdown",
   "id": "5f3f1119-32fc-4203-8287-a986839f2786",
   "metadata": {
    "tags": []
   },
   "source": [
    "## Tip calculator"
   ]
  },
  {
   "cell_type": "code",
   "execution_count": null,
   "id": "c2a612a3-ec20-4889-81bf-5ab56698fc67",
   "metadata": {
    "tags": []
   },
   "outputs": [],
   "source": [
    "Bill = int(input('Please input your bill:'))\n",
    "Tip = int(input('Please input how much tip do you want to give (in %)'))\n",
    "People = int(input('Please input how many of you are:'))\n",
    "\n",
    "Pay_per_ppl = (Bill*(1+(Tip/100)))/People\n",
    "print(Pay_per_ppl)"
   ]
  },
  {
   "cell_type": "markdown",
   "id": "3ad2a967-e91a-493c-9d8b-438ffb6d79dc",
   "metadata": {},
   "source": [
    "# Rock Paper Scrissors"
   ]
  },
  {
   "cell_type": "code",
   "execution_count": 117,
   "id": "a0a06303-6d4d-4ab1-98c2-e9ee60fdf040",
   "metadata": {
    "tags": []
   },
   "outputs": [
    {
     "name": "stdin",
     "output_type": "stream",
     "text": [
      "Please write (R)ock, (P)aper or (S)crissors:  R\n"
     ]
    },
    {
     "name": "stdout",
     "output_type": "stream",
     "text": [
      "User choice: R\n",
      "Computer choice: P\n",
      "Computer wins\n"
     ]
    }
   ],
   "source": [
    "#Get user input\n",
    "User = input('Please write (R)ock, (P)aper or (S)crissors: ')\n",
    "\n",
    "#Get computer's \"choice\"\n",
    "import random\n",
    "RPSChoices = ['R', 'P', 'S']\n",
    "Computer = random.choice(RPSChoices)\n",
    "\n",
    "print('User choice: ' +User)\n",
    "print('Computer choice: ' +Computer)\n",
    "\n",
    "#Who wins?\n",
    "\n",
    "if User == Computer:\n",
    "    print('Draw')\n",
    "elif User == 'R' and Computer == 'S':\n",
    "    print('User wins')\n",
    "elif User == 'P' and Computer == 'R':\n",
    "    print('User wins')\n",
    "elif User == 'S' and Computer == 'P':\n",
    "    print('User wins')\n",
    "else:\n",
    "    print('Computer wins')"
   ]
  },
  {
   "cell_type": "code",
   "execution_count": null,
   "id": "6d236a25-3dde-4905-aded-add677f60b53",
   "metadata": {},
   "outputs": [],
   "source": []
  }
 ],
 "metadata": {
  "kernelspec": {
   "display_name": "Python 3 (ipykernel)",
   "language": "python",
   "name": "python3"
  },
  "language_info": {
   "codemirror_mode": {
    "name": "ipython",
    "version": 3
   },
   "file_extension": ".py",
   "mimetype": "text/x-python",
   "name": "python",
   "nbconvert_exporter": "python",
   "pygments_lexer": "ipython3",
   "version": "3.11.4"
  }
 },
 "nbformat": 4,
 "nbformat_minor": 5
}
